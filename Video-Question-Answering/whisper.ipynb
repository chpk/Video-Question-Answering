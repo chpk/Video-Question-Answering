{
 "cells": [
  {
   "cell_type": "markdown",
   "metadata": {
    "colab_type": "text",
    "id": "view-in-github"
   },
   "source": [
    "<a href=\"https://colab.research.google.com/github/zirkelc/python-transcribe-youtube-whisper/blob/master/whisper.ipynb\" target=\"_parent\"><img src=\"https://colab.research.google.com/assets/colab-badge.svg\" alt=\"Open In Colab\"/></a>"
   ]
  },
  {
   "cell_type": "markdown",
   "metadata": {
    "id": "CQoD_UAGWdA7"
   },
   "source": [
    "# Install Dependencies\n",
    "\n",
    "Install the Python packages for Whisper, PyTube and Pandas."
   ]
  },
  {
   "cell_type": "code",
   "execution_count": 1,
   "metadata": {
    "colab": {
     "base_uri": "https://localhost:8080/"
    },
    "id": "wtwCyC1MXYDC",
    "outputId": "144cedb9-04a1-43d1-c051-d3c7927a45c9"
   },
   "outputs": [
    {
     "name": "stdout",
     "output_type": "stream",
     "text": [
      "Collecting git+https://github.com/openai/whisper.git\n",
      "  Cloning https://github.com/openai/whisper.git to c:\\users\\chpre\\appdata\\local\\temp\\pip-req-build-4ozic9m8\n",
      "  Resolved https://github.com/openai/whisper.git to commit b91c907694f96a3fb9da03d4bbdc83fbcd3a40a4\n",
      "  Installing build dependencies: started\n",
      "  Installing build dependencies: finished with status 'done'\n",
      "  Getting requirements to build wheel: started\n",
      "  Getting requirements to build wheel: finished with status 'done'\n",
      "  Preparing metadata (pyproject.toml): started\n",
      "  Preparing metadata (pyproject.toml): finished with status 'done'\n",
      "Requirement already satisfied: numba in c:\\users\\chpre\\anaconda3\\lib\\site-packages (from openai-whisper==20230314) (0.56.4)\n",
      "Collecting more-itertools\n",
      "  Downloading more_itertools-10.0.0-py3-none-any.whl (55 kB)\n",
      "     ---------------------------------------- 55.3/55.3 kB 1.5 MB/s eta 0:00:00\n",
      "Requirement already satisfied: numpy in c:\\users\\chpre\\anaconda3\\lib\\site-packages (from openai-whisper==20230314) (1.23.5)\n",
      "Collecting torch\n",
      "  Downloading torch-2.0.1-cp39-cp39-win_amd64.whl (172.4 MB)\n",
      "     ------------------------------------- 172.4/172.4 MB 18.2 MB/s eta 0:00:00\n",
      "Requirement already satisfied: tqdm in c:\\users\\chpre\\anaconda3\\lib\\site-packages (from openai-whisper==20230314) (4.64.1)\n",
      "Collecting tiktoken==0.3.3\n",
      "  Downloading tiktoken-0.3.3-cp39-cp39-win_amd64.whl (579 kB)\n",
      "     ---------------------------------------- 579.8/579.8 kB ? eta 0:00:00\n",
      "Requirement already satisfied: requests>=2.26.0 in c:\\users\\chpre\\anaconda3\\lib\\site-packages (from tiktoken==0.3.3->openai-whisper==20230314) (2.28.1)\n",
      "Requirement already satisfied: regex>=2022.1.18 in c:\\users\\chpre\\anaconda3\\lib\\site-packages (from tiktoken==0.3.3->openai-whisper==20230314) (2022.7.9)\n",
      "Requirement already satisfied: llvmlite<0.40,>=0.39.0dev0 in c:\\users\\chpre\\anaconda3\\lib\\site-packages (from numba->openai-whisper==20230314) (0.39.1)\n",
      "Requirement already satisfied: setuptools in c:\\users\\chpre\\anaconda3\\lib\\site-packages (from numba->openai-whisper==20230314) (65.6.3)\n",
      "Requirement already satisfied: networkx in c:\\users\\chpre\\anaconda3\\lib\\site-packages (from torch->openai-whisper==20230314) (2.8.4)\n",
      "Requirement already satisfied: jinja2 in c:\\users\\chpre\\anaconda3\\lib\\site-packages (from torch->openai-whisper==20230314) (3.1.2)\n",
      "Requirement already satisfied: sympy in c:\\users\\chpre\\anaconda3\\lib\\site-packages (from torch->openai-whisper==20230314) (1.11.1)\n",
      "Requirement already satisfied: typing-extensions in c:\\users\\chpre\\anaconda3\\lib\\site-packages (from torch->openai-whisper==20230314) (4.4.0)\n",
      "Requirement already satisfied: filelock in c:\\users\\chpre\\anaconda3\\lib\\site-packages (from torch->openai-whisper==20230314) (3.9.0)\n",
      "Requirement already satisfied: colorama in c:\\users\\chpre\\anaconda3\\lib\\site-packages (from tqdm->openai-whisper==20230314) (0.4.6)\n",
      "Requirement already satisfied: certifi>=2017.4.17 in c:\\users\\chpre\\anaconda3\\lib\\site-packages (from requests>=2.26.0->tiktoken==0.3.3->openai-whisper==20230314) (2022.12.7)\n",
      "Requirement already satisfied: urllib3<1.27,>=1.21.1 in c:\\users\\chpre\\anaconda3\\lib\\site-packages (from requests>=2.26.0->tiktoken==0.3.3->openai-whisper==20230314) (1.26.14)\n",
      "Requirement already satisfied: charset-normalizer<3,>=2 in c:\\users\\chpre\\anaconda3\\lib\\site-packages (from requests>=2.26.0->tiktoken==0.3.3->openai-whisper==20230314) (2.0.4)\n",
      "Requirement already satisfied: idna<4,>=2.5 in c:\\users\\chpre\\anaconda3\\lib\\site-packages (from requests>=2.26.0->tiktoken==0.3.3->openai-whisper==20230314) (3.4)\n",
      "Requirement already satisfied: MarkupSafe>=2.0 in c:\\users\\chpre\\anaconda3\\lib\\site-packages (from jinja2->torch->openai-whisper==20230314) (2.1.1)\n",
      "Requirement already satisfied: mpmath>=0.19 in c:\\users\\chpre\\anaconda3\\lib\\site-packages (from sympy->torch->openai-whisper==20230314) (1.2.1)\n",
      "Building wheels for collected packages: openai-whisper\n",
      "  Building wheel for openai-whisper (pyproject.toml): started\n",
      "  Building wheel for openai-whisper (pyproject.toml): finished with status 'done'\n",
      "  Created wheel for openai-whisper: filename=openai_whisper-20230314-py3-none-any.whl size=807593 sha256=e4f3bbec47aff6fe14e6b2ad9bd527f11ecc7c831a59b57e8dabd2d23c192b3f\n",
      "  Stored in directory: C:\\Users\\chpre\\AppData\\Local\\Temp\\pip-ephem-wheel-cache-wy7sqttm\\wheels\\fe\\03\\29\\e7919208d11b4ab32972cb448bb84a9a675d92cd52c9a48341\n",
      "Successfully built openai-whisper\n",
      "Installing collected packages: more-itertools, torch, tiktoken, openai-whisper\n",
      "Successfully installed more-itertools-10.0.0 openai-whisper-20230314 tiktoken-0.3.3 torch-2.0.1\n"
     ]
    },
    {
     "name": "stderr",
     "output_type": "stream",
     "text": [
      "  Running command git clone --filter=blob:none --quiet https://github.com/openai/whisper.git 'C:\\Users\\chpre\\AppData\\Local\\Temp\\pip-req-build-4ozic9m8'\n"
     ]
    },
    {
     "name": "stdout",
     "output_type": "stream",
     "text": [
      "Collecting git+https://github.com/pytube/pytube.git\n",
      "  Cloning https://github.com/pytube/pytube.git to c:\\users\\chpre\\appdata\\local\\temp\\pip-req-build-r3iqmeow\n",
      "  Resolved https://github.com/pytube/pytube.git to commit a32fff39058a6f7e5e59ecd06a7467b71197ce35\n",
      "  Preparing metadata (setup.py): started\n",
      "  Preparing metadata (setup.py): finished with status 'done'\n",
      "Building wheels for collected packages: pytube\n",
      "  Building wheel for pytube (setup.py): started\n",
      "  Building wheel for pytube (setup.py): finished with status 'done'\n",
      "  Created wheel for pytube: filename=pytube-15.0.0-py3-none-any.whl size=58037 sha256=144f9327c43a90f415afacc63f010f8ffc90b4a828f00f4e9ce735bd7f8a4821\n",
      "  Stored in directory: C:\\Users\\chpre\\AppData\\Local\\Temp\\pip-ephem-wheel-cache-2vi2jv0y\\wheels\\3f\\59\\ee\\8207db205e80d0911047dc7c650d2f4822d299bf0c298b65f4\n",
      "Successfully built pytube\n",
      "Installing collected packages: pytube\n",
      "Successfully installed pytube-15.0.0\n"
     ]
    },
    {
     "name": "stderr",
     "output_type": "stream",
     "text": [
      "  Running command git clone --filter=blob:none --quiet https://github.com/pytube/pytube.git 'C:\\Users\\chpre\\AppData\\Local\\Temp\\pip-req-build-r3iqmeow'\n"
     ]
    },
    {
     "name": "stdout",
     "output_type": "stream",
     "text": [
      "Requirement already satisfied: pandas in c:\\users\\chpre\\anaconda3\\lib\\site-packages (1.5.2)\n",
      "Requirement already satisfied: pytz>=2020.1 in c:\\users\\chpre\\anaconda3\\lib\\site-packages (from pandas) (2022.7)\n",
      "Requirement already satisfied: python-dateutil>=2.8.1 in c:\\users\\chpre\\anaconda3\\lib\\site-packages (from pandas) (2.8.2)\n",
      "Requirement already satisfied: numpy>=1.20.3 in c:\\users\\chpre\\anaconda3\\lib\\site-packages (from pandas) (1.23.5)\n",
      "Requirement already satisfied: six>=1.5 in c:\\users\\chpre\\anaconda3\\lib\\site-packages (from python-dateutil>=2.8.1->pandas) (1.16.0)\n"
     ]
    }
   ],
   "source": [
    "! pip install git+https://github.com/openai/whisper.git \n",
    "! pip install git+https://github.com/pytube/pytube.git\n",
    "! pip install pandas"
   ]
  },
  {
   "cell_type": "markdown",
   "metadata": {
    "id": "b7CZW8XkXoIq"
   },
   "source": [
    "# Download the YouTube Video\n",
    "\n",
    "Download the given `video_url` from YouTube as audio-only and save it locallaly.\n",
    "\n"
   ]
  },
  {
   "cell_type": "code",
   "execution_count": 2,
   "metadata": {
    "id": "3x0XorRgXrq0"
   },
   "outputs": [],
   "source": [
    "from pytube import YouTube\n",
    "\n",
    "video_url = \"https://www.youtube.com/watch?v=oHWuv1Aqrzk\" #@param {type:\"string\"}\n",
    "audio_file = YouTube(video_url).streams.filter(only_audio=True).first().download(filename=\"audio.mp4\")"
   ]
  },
  {
   "cell_type": "markdown",
   "metadata": {
    "id": "WSB6sS2QYqt6"
   },
   "source": [
    "# Load the Whisper Model\n",
    "\n",
    "Load the `tiny` Whisper language model. See all [available language models](https://github.com/openai/whisper#available-models-and-languages)."
   ]
  },
  {
   "cell_type": "code",
   "execution_count": 3,
   "metadata": {
    "colab": {
     "base_uri": "https://localhost:8080/"
    },
    "id": "98EZrQn2YxqM",
    "outputId": "22811d45-c9fb-43a6-bea6-9125d7258aab"
   },
   "outputs": [
    {
     "name": "stderr",
     "output_type": "stream",
     "text": [
      "100%|█████████████████████████████████████| 72.1M/72.1M [00:03<00:00, 19.4MiB/s]\n"
     ]
    }
   ],
   "source": [
    "import whisper\n",
    "\n",
    "whisper_model = whisper.load_model(\"tiny\")"
   ]
  },
  {
   "cell_type": "markdown",
   "metadata": {
    "id": "C4uEYT_TY1pG"
   },
   "source": [
    "# Transcribe the Video\n",
    "\n",
    "Transcribe the given `audio` file."
   ]
  },
  {
   "cell_type": "code",
   "execution_count": 4,
   "metadata": {
    "colab": {
     "base_uri": "https://localhost:8080/"
    },
    "id": "0VGDYrpvY8_M",
    "outputId": "e3e24ee3-7b1c-4ab3-b8b8-cbc4206417fb"
   },
   "outputs": [
    {
     "name": "stderr",
     "output_type": "stream",
     "text": [
      "C:\\Users\\chpre\\anaconda3\\lib\\site-packages\\whisper\\transcribe.py:114: UserWarning: FP16 is not supported on CPU; using FP32 instead\n",
      "  warnings.warn(\"FP16 is not supported on CPU; using FP32 instead\")\n"
     ]
    }
   ],
   "source": [
    "transcription = whisper_model.transcribe(audio_file)"
   ]
  },
  {
   "cell_type": "markdown",
   "metadata": {
    "id": "BRUv8Dn84s_n"
   },
   "source": [
    "# Display Transcription as DataFrame\n",
    "\n",
    "Display the transcription result in segments with start and end time. The full concatenated string is available as `transcription['text']`"
   ]
  },
  {
   "cell_type": "code",
   "execution_count": 5,
   "metadata": {
    "colab": {
     "base_uri": "https://localhost:8080/",
     "height": 834
    },
    "id": "dIxP0wP801f6",
    "outputId": "0af5441b-3bb3-4a93-c739-41418aa98312"
   },
   "outputs": [
    {
     "data": {
      "text/html": [
       "<div>\n",
       "<style scoped>\n",
       "    .dataframe tbody tr th:only-of-type {\n",
       "        vertical-align: middle;\n",
       "    }\n",
       "\n",
       "    .dataframe tbody tr th {\n",
       "        vertical-align: top;\n",
       "    }\n",
       "\n",
       "    .dataframe thead th {\n",
       "        text-align: right;\n",
       "    }\n",
       "</style>\n",
       "<table border=\"1\" class=\"dataframe\">\n",
       "  <thead>\n",
       "    <tr style=\"text-align: right;\">\n",
       "      <th></th>\n",
       "      <th>start</th>\n",
       "      <th>end</th>\n",
       "      <th>text</th>\n",
       "    </tr>\n",
       "  </thead>\n",
       "  <tbody>\n",
       "    <tr>\n",
       "      <th>0</th>\n",
       "      <td>0.00</td>\n",
       "      <td>9.20</td>\n",
       "      <td>Is there cool small projects like ArcGives, S...</td>\n",
       "    </tr>\n",
       "    <tr>\n",
       "      <th>1</th>\n",
       "      <td>9.20</td>\n",
       "      <td>13.36</td>\n",
       "      <td>the world, the ML world can anticipate?</td>\n",
       "    </tr>\n",
       "    <tr>\n",
       "      <th>2</th>\n",
       "      <td>13.36</td>\n",
       "      <td>16.04</td>\n",
       "      <td>There's some always like some fun site projects.</td>\n",
       "    </tr>\n",
       "    <tr>\n",
       "      <th>3</th>\n",
       "      <td>16.04</td>\n",
       "      <td>17.60</td>\n",
       "      <td>ArcGives, Sanity is one.</td>\n",
       "    </tr>\n",
       "    <tr>\n",
       "      <th>4</th>\n",
       "      <td>17.60</td>\n",
       "      <td>19.68</td>\n",
       "      <td>Basically, there's way too many archive papers.</td>\n",
       "    </tr>\n",
       "    <tr>\n",
       "      <th>...</th>\n",
       "      <td>...</td>\n",
       "      <td>...</td>\n",
       "      <td>...</td>\n",
       "    </tr>\n",
       "    <tr>\n",
       "      <th>68</th>\n",
       "      <td>206.52</td>\n",
       "      <td>207.52</td>\n",
       "      <td>Yeah.</td>\n",
       "    </tr>\n",
       "    <tr>\n",
       "      <th>69</th>\n",
       "      <td>207.52</td>\n",
       "      <td>213.20</td>\n",
       "      <td>So you can make a movie like Avatar, eventual...</td>\n",
       "    </tr>\n",
       "    <tr>\n",
       "      <th>70</th>\n",
       "      <td>213.20</td>\n",
       "      <td>214.20</td>\n",
       "      <td>Much less.</td>\n",
       "    </tr>\n",
       "    <tr>\n",
       "      <th>71</th>\n",
       "      <td>214.20</td>\n",
       "      <td>215.20</td>\n",
       "      <td>Maybe just by talking to your phone.</td>\n",
       "    </tr>\n",
       "    <tr>\n",
       "      <th>72</th>\n",
       "      <td>215.20</td>\n",
       "      <td>217.04</td>\n",
       "      <td>I mean, I know it sounds kind of crazy.</td>\n",
       "    </tr>\n",
       "  </tbody>\n",
       "</table>\n",
       "<p>73 rows × 3 columns</p>\n",
       "</div>"
      ],
      "text/plain": [
       "     start     end                                               text\n",
       "0     0.00    9.20   Is there cool small projects like ArcGives, S...\n",
       "1     9.20   13.36            the world, the ML world can anticipate?\n",
       "2    13.36   16.04   There's some always like some fun site projects.\n",
       "3    16.04   17.60                           ArcGives, Sanity is one.\n",
       "4    17.60   19.68    Basically, there's way too many archive papers.\n",
       "..     ...     ...                                                ...\n",
       "68  206.52  207.52                                              Yeah.\n",
       "69  207.52  213.20   So you can make a movie like Avatar, eventual...\n",
       "70  213.20  214.20                                         Much less.\n",
       "71  214.20  215.20               Maybe just by talking to your phone.\n",
       "72  215.20  217.04            I mean, I know it sounds kind of crazy.\n",
       "\n",
       "[73 rows x 3 columns]"
      ]
     },
     "metadata": {},
     "output_type": "display_data"
    }
   ],
   "source": [
    "import pandas as pd\n",
    "\n",
    "df = pd.DataFrame(transcription['segments'], columns=['start', 'end', 'text'])\n",
    "display(df)"
   ]
  },
  {
   "cell_type": "code",
   "execution_count": null,
   "metadata": {},
   "outputs": [],
   "source": []
  }
 ],
 "metadata": {
  "colab": {
   "include_colab_link": true,
   "provenance": [],
   "toc_visible": true
  },
  "kernelspec": {
   "display_name": "Python 3 (ipykernel)",
   "language": "python",
   "name": "python3"
  },
  "language_info": {
   "codemirror_mode": {
    "name": "ipython",
    "version": 3
   },
   "file_extension": ".py",
   "mimetype": "text/x-python",
   "name": "python",
   "nbconvert_exporter": "python",
   "pygments_lexer": "ipython3",
   "version": "3.9.16"
  }
 },
 "nbformat": 4,
 "nbformat_minor": 1
}
